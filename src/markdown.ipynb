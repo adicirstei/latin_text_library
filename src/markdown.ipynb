{
 "cells": [
  {
   "cell_type": "code",
   "execution_count": 1,
   "metadata": {},
   "outputs": [],
   "source": [
    "import markdown \n",
    "from markdown.extensions import Extension\n",
    "from markdown.preprocessors import Preprocessor\n",
    "from markdown.postprocessors import Postprocessor\n",
    "from markdown.treeprocessors import Treeprocessor\n",
    "from xml.etree import ElementTree as etree\n",
    "import uuid\n",
    "import re"
   ]
  },
  {
   "cell_type": "code",
   "execution_count": 2,
   "metadata": {},
   "outputs": [],
   "source": [
    "def random_id():\n",
    "    return uuid.uuid4().hex[:10]"
   ]
  },
  {
   "cell_type": "code",
   "execution_count": 3,
   "metadata": {},
   "outputs": [],
   "source": [
    "\n",
    "# Custom Postprocessor to add random IDs to HTML elements\n",
    "class RandomIdPostprocessor(Postprocessor):\n",
    "    def run(self, text):\n",
    "        # Regular expression to match HTML tags without an id attribute\n",
    "        def add_id_to_tag(match):\n",
    "            tag = match.group(0)\n",
    "            # Only add id if there's no existing id attribute\n",
    "            if 'id=\"' not in tag:\n",
    "                # Insert a random id into the tag\n",
    "                return re.sub(r'(<\\w+)', rf'\\1 id=\"{random_id()}\"', tag)\n",
    "            return tag\n",
    "        \n",
    "        # Apply the function to each HTML tag in the text\n",
    "        return re.sub(r'<\\w+[^>]*>', add_id_to_tag, text)\n",
    "\n",
    "# Extension to register the Postprocessor\n",
    "class RandomIdExtension(Extension):\n",
    "    def extendMarkdown(self, md):\n",
    "        # Register the Postprocessor\n",
    "        md.postprocessors.register(RandomIdPostprocessor(md), 'random_id_postprocessor', 25)\n"
   ]
  },
  {
   "cell_type": "code",
   "execution_count": 4,
   "metadata": {},
   "outputs": [],
   "source": [
    "md = markdown.Markdown(extensions=[RandomIdExtension()])\n"
   ]
  },
  {
   "cell_type": "code",
   "execution_count": 9,
   "metadata": {},
   "outputs": [],
   "source": [
    "folders = [ 'eutropius']"
   ]
  },
  {
   "cell_type": "code",
   "execution_count": 7,
   "metadata": {},
   "outputs": [],
   "source": [
    "import os\n",
    "\n",
    "for folder in folders:\n",
    "    dir = '../'+folder\n",
    "    files = os.listdir(dir)\n",
    "    os.makedirs('../public/'+folder, exist_ok=True)\n",
    "    folderMD = f\"# {folder}\\n\\n\"\n",
    "    for fn in files:\n",
    "        if fn.endswith('.txt'):\n",
    "            ofn = fn[:-4] + '.html'\n",
    "            ofile = '../public/' + folder + '/' + ofn\n",
    "            ifile = dir +'/' + fn\n",
    "            md.convertFile(input=ifile, output=ofile)\n",
    "            folderMD += f\"[{fn[:-4] + '.html'}]({folder + \"/\" + ofn})\\n\\n\"\n",
    "    with open('../public/' + folder +'.html', 'w') as f:\n",
    "        f.write( md.convert(folderMD))"
   ]
  },
  {
   "cell_type": "code",
   "execution_count": null,
   "metadata": {},
   "outputs": [],
   "source": []
  }
 ],
 "metadata": {
  "kernelspec": {
   "display_name": "Python 3",
   "language": "python",
   "name": "python3"
  },
  "language_info": {
   "codemirror_mode": {
    "name": "ipython",
    "version": 3
   },
   "file_extension": ".py",
   "mimetype": "text/x-python",
   "name": "python",
   "nbconvert_exporter": "python",
   "pygments_lexer": "ipython3",
   "version": "3.13.0"
  }
 },
 "nbformat": 4,
 "nbformat_minor": 2
}
